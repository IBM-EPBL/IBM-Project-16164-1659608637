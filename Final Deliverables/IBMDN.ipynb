{
  "cells": [
    {
      "cell_type": "code",
      "execution_count": null,
      "metadata": {
        "id": "yBhyNZDmqq24"
      },
      "outputs": [],
      "source": [
        "import warnings\n",
        "warnings.filterwarnings(\"ignore\")"
      ]
    },
    {
      "cell_type": "code",
      "execution_count": null,
      "metadata": {
        "id": "e5pGhgEIqq25"
      },
      "outputs": [],
      "source": [
        "import numpy as np\n",
        "import matplotlib.pyplot as plt\n",
        "import pandas as pd\n",
        "from tensorflow.keras.models import Sequential,Model\n",
        "from tensorflow.keras.layers import Dense,Activation,Dropout,Conv2D,Flatten,MaxPool2D,Reshape,GlobalAveragePooling2D,InputLayer\n",
        "from tensorflow.keras.applications.resnet50 import ResNet50\n",
        "from keras.applications.resnet import ResNet50\n",
        "from keras.applications.vgg19 import VGG19\n",
        "from keras.applications.inception_v3 import InceptionV3\n",
        "from tensorflow.keras.applications.resnet50 import preprocess_input\n",
        "from tensorflow.keras.preprocessing import image\n",
        "from tensorflow.keras.preprocessing.image import ImageDataGenerator,load_img,img_to_array\n",
        "from tensorflow.keras.callbacks import EarlyStopping, ReduceLROnPlateau"
      ]
    },
    {
      "cell_type": "code",
      "execution_count": null,
      "metadata": {
        "id": "-AmInv7iqq25"
      },
      "outputs": [],
      "source": [
        "IMAGE_SIZE = [229,229]\n",
        "path = r\".\\dataset\""
      ]
    },
    {
      "cell_type": "code",
      "execution_count": null,
      "metadata": {
        "id": "2JXt1uniqq25"
      },
      "outputs": [],
      "source": [
        "train_data_gen = ImageDataGenerator(rescale = 1./255,\n",
        "                             shear_range = 0.2,\n",
        "                             zoom_range = 0.2,\n",
        "                             horizontal_flip = True,\n",
        "                             validation_split = 0.30)\n",
        "test_data_gen = ImageDataGenerator(rescale = 1./255,validation_split = 0.30)"
      ]
    },
    {
      "cell_type": "code",
      "execution_count": null,
      "metadata": {
        "id": "znUlW0wSqq25",
        "outputId": "d652645f-fe14-4a80-fe11-7be227bcc086"
      },
      "outputs": [
        {
          "name": "stdout",
          "output_type": "stream",
          "text": [
            "Found 3963 images belonging to 30 classes.\n",
            "Found 1692 images belonging to 30 classes.\n"
          ]
        }
      ],
      "source": [
        "training_set = train_data_gen.flow_from_directory(path,\n",
        "                                                 target_size=(229,229),\n",
        "                                                 batch_size=100,\n",
        "                                                 class_mode='categorical',\n",
        "                                                 shuffle=True,\n",
        "                                                 color_mode='rgb',\n",
        "                                                 subset = 'training')\n",
        "\n",
        "testing_set = test_data_gen.flow_from_directory(path,\n",
        "                                                 target_size=(229,229),\n",
        "                                                 batch_size=100,\n",
        "                                                 class_mode='categorical',\n",
        "                                                 shuffle=True,\n",
        "                                                 color_mode='rgb',\n",
        "                                                 subset = 'validation')"
      ]
    },
    {
      "cell_type": "code",
      "execution_count": null,
      "metadata": {
        "id": "zFNY2yRzqq26",
        "outputId": "1dbc6e7a-911d-429b-ed05-f6bb1f292b7b"
      },
      "outputs": [
        {
          "data": {
            "text/plain": [
              "{'Bear Mammal': 0,\n",
              " 'Bluebell Flower': 1,\n",
              " 'ColtsFoot Flower': 2,\n",
              " 'Corpse Flower': 3,\n",
              " 'Cow Mammal': 4,\n",
              " 'Daisy Flower': 5,\n",
              " 'Dandelion Flower': 6,\n",
              " 'Duck Bird': 7,\n",
              " 'Eagle Bird': 8,\n",
              " 'Elephant Mammal': 9,\n",
              " 'Flamingo Bird': 10,\n",
              " 'Fox Mammal': 11,\n",
              " 'Great Indian Bustard Bird': 12,\n",
              " 'Hornbill Bird': 13,\n",
              " 'Horse Mammal': 14,\n",
              " 'Hummingbird Bird': 15,\n",
              " 'Lady Slipper Orchid Flower': 16,\n",
              " 'Leopard Mammal': 17,\n",
              " 'Owl Bird': 18,\n",
              " 'Panda Mammal': 19,\n",
              " 'Pangolin Mammal': 20,\n",
              " 'Parrot Bird': 21,\n",
              " 'Pigeon Bird': 22,\n",
              " 'Rat Mammal': 23,\n",
              " 'Rose Flower': 24,\n",
              " 'Senenca White Deer Mammal': 25,\n",
              " 'Spoon Billed Sandpiper Bird': 26,\n",
              " 'Sunflower Flower': 27,\n",
              " 'Tulip Flower': 28,\n",
              " 'Windflower Flower': 29}"
            ]
          },
          "execution_count": 7,
          "metadata": {},
          "output_type": "execute_result"
        }
      ],
      "source": [
        "training_set.class_indices"
      ]
    },
    {
      "cell_type": "code",
      "execution_count": null,
      "metadata": {
        "id": "gmbTjBOgqq26",
        "outputId": "020466ae-8581-4d27-f703-3d0a066b750c"
      },
      "outputs": [
        {
          "data": {
            "text/plain": [
              "30"
            ]
          },
          "execution_count": 8,
          "metadata": {},
          "output_type": "execute_result"
        }
      ],
      "source": [
        "from glob import glob\n",
        "folders = glob(r\".\\dataset\\*\")\n",
        "len(folders)"
      ]
    },
    {
      "cell_type": "code",
      "execution_count": null,
      "metadata": {
        "id": "biE3DG1Xqq26"
      },
      "outputs": [],
      "source": [
        "inception = InceptionV3(input_shape=IMAGE_SIZE+[3],weights='imagenet',include_top=False)"
      ]
    },
    {
      "cell_type": "code",
      "execution_count": null,
      "metadata": {
        "id": "6yrVBBFbqq27"
      },
      "outputs": [],
      "source": [
        "for layer in inception.layers:\n",
        "    layer.trainable = False\n",
        "    \n",
        "for layer in inception.layers[250:]:\n",
        "    layer.trainable = True"
      ]
    },
    {
      "cell_type": "code",
      "execution_count": null,
      "metadata": {
        "id": "qtmYl8wcqq27",
        "outputId": "fcc439a0-6a08-4cea-847b-bdd5ef34fcb5"
      },
      "outputs": [
        {
          "name": "stdout",
          "output_type": "stream",
          "text": [
            "Model: \"sequential_1\"\n",
            "_________________________________________________________________\n",
            "Layer (type)                 Output Shape              Param #   \n",
            "=================================================================\n",
            "inception_v3 (Functional)    (None, 5, 5, 2048)        21802784  \n",
            "_________________________________________________________________\n",
            "flatten_7 (Flatten)          (None, 51200)             0         \n",
            "_________________________________________________________________\n",
            "dense_1 (Dense)              (None, 30)                1536030   \n",
            "=================================================================\n",
            "Total params: 23,338,814\n",
            "Trainable params: 12,077,470\n",
            "Non-trainable params: 11,261,344\n",
            "_________________________________________________________________\n"
          ]
        }
      ],
      "source": [
        "model = Sequential()\n",
        "model.add(inception)\n",
        "model.add(Flatten())\n",
        "model.add(Dense(units = 30, activation = 'softmax'))\n",
        "model.summary()"
      ]
    },
    {
      "cell_type": "code",
      "execution_count": null,
      "metadata": {
        "id": "9kwwqKg1qq28"
      },
      "outputs": [],
      "source": [
        "model.compile(loss='categorical_crossentropy',optimizer='adam',metrics=['accuracy'])"
      ]
    },
    {
      "cell_type": "code",
      "execution_count": null,
      "metadata": {
        "id": "fTHkf-RDqq28"
      },
      "outputs": [],
      "source": [
        "early_stop = EarlyStopping(monitor='val_accuracy', \n",
        "                           patience=5,verbose=1,mode='auto')\n",
        "\n",
        "lr = ReduceLROnPlateau(monitor='val_accuracy', \n",
        "                       factor=0.2,patience=5, \n",
        "                       min_lr=0.00001)\n",
        "\n",
        "callback = [early_stop,lr]"
      ]
    },
    {
      "cell_type": "code",
      "execution_count": null,
      "metadata": {
        "id": "Y1agWYoeqq28",
        "outputId": "4f35ce8a-ee3d-4a10-ab26-39663c6595e9"
      },
      "outputs": [
        {
          "name": "stdout",
          "output_type": "stream",
          "text": [
            "Epoch 1/50\n",
            "40/40 [==============================] - 184s 4s/step - loss: 3.5189 - accuracy: 0.4906 - val_loss: 3.0464 - val_accuracy: 0.7790\n",
            "Epoch 2/50\n",
            "40/40 [==============================] - 181s 5s/step - loss: 0.2560 - accuracy: 0.9185 - val_loss: 0.9159 - val_accuracy: 0.8576\n",
            "Epoch 3/50\n",
            "40/40 [==============================] - 178s 4s/step - loss: 0.1529 - accuracy: 0.9509 - val_loss: 0.7736 - val_accuracy: 0.8564\n",
            "Epoch 4/50\n",
            "40/40 [==============================] - 178s 4s/step - loss: 0.1095 - accuracy: 0.9644 - val_loss: 0.8534 - val_accuracy: 0.8546\n",
            "Epoch 5/50\n",
            "40/40 [==============================] - 179s 4s/step - loss: 0.1266 - accuracy: 0.9715 - val_loss: 0.6076 - val_accuracy: 0.8842\n",
            "Epoch 6/50\n",
            "40/40 [==============================] - 179s 4s/step - loss: 0.0597 - accuracy: 0.9804 - val_loss: 0.6157 - val_accuracy: 0.8865\n",
            "Epoch 7/50\n",
            "40/40 [==============================] - 180s 4s/step - loss: 0.0547 - accuracy: 0.9841 - val_loss: 0.9250 - val_accuracy: 0.8528\n",
            "Epoch 8/50\n",
            "40/40 [==============================] - 179s 4s/step - loss: 0.0510 - accuracy: 0.9867 - val_loss: 0.6271 - val_accuracy: 0.8842\n",
            "Epoch 9/50\n",
            "40/40 [==============================] - 180s 5s/step - loss: 0.0340 - accuracy: 0.9904 - val_loss: 0.7922 - val_accuracy: 0.8706\n",
            "Epoch 10/50\n",
            "40/40 [==============================] - 181s 5s/step - loss: 0.0471 - accuracy: 0.9877 - val_loss: 0.7608 - val_accuracy: 0.8871\n",
            "Epoch 11/50\n",
            "40/40 [==============================] - 180s 5s/step - loss: 0.0382 - accuracy: 0.9880 - val_loss: 0.8745 - val_accuracy: 0.8747\n",
            "Epoch 12/50\n",
            "40/40 [==============================] - 180s 5s/step - loss: 0.0683 - accuracy: 0.9841 - val_loss: 1.1738 - val_accuracy: 0.8446\n",
            "Epoch 13/50\n",
            "40/40 [==============================] - 180s 4s/step - loss: 0.0603 - accuracy: 0.9831 - val_loss: 1.7824 - val_accuracy: 0.8387\n",
            "Epoch 14/50\n",
            "40/40 [==============================] - 178s 4s/step - loss: 0.0541 - accuracy: 0.9868 - val_loss: 0.6286 - val_accuracy: 0.8954\n",
            "Epoch 15/50\n",
            "40/40 [==============================] - 181s 5s/step - loss: 0.0272 - accuracy: 0.9924 - val_loss: 0.6283 - val_accuracy: 0.8877\n",
            "Epoch 16/50\n",
            "40/40 [==============================] - 181s 5s/step - loss: 0.0181 - accuracy: 0.9961 - val_loss: 0.7544 - val_accuracy: 0.8818\n",
            "Epoch 17/50\n",
            "40/40 [==============================] - 179s 4s/step - loss: 0.0318 - accuracy: 0.9929 - val_loss: 0.9025 - val_accuracy: 0.8794\n",
            "Epoch 18/50\n",
            "40/40 [==============================] - 178s 4s/step - loss: 0.0405 - accuracy: 0.9883 - val_loss: 0.8487 - val_accuracy: 0.8765\n",
            "Epoch 19/50\n",
            "40/40 [==============================] - 178s 4s/step - loss: 0.0501 - accuracy: 0.9866 - val_loss: 0.8789 - val_accuracy: 0.8694\n",
            "Epoch 00019: early stopping\n"
          ]
        }
      ],
      "source": [
        "result = model.fit(training_set, validation_data=testing_set, epochs=50,\n",
        "    steps_per_epoch=len(training_set),validation_steps=len(testing_set),callbacks=callback)"
      ]
    },
    {
      "cell_type": "code",
      "execution_count": null,
      "metadata": {
        "id": "07AzeTijqq28",
        "outputId": "7d331ae7-9913-4308-dec6-9cd8fd952f0d"
      },
      "outputs": [
        {
          "data": {
            "image/png": "[encoded data removed]",
            "text/plain": [
              "<Figure size 432x288 with 1 Axes>"
            ]
          },
          "metadata": {
            "needs_background": "light"
          },
          "output_type": "display_data"
        },
        {
          "data": {
            "image/png": "[encoded data removed]",
            "text/plain": [
              "<Figure size 432x288 with 1 Axes>"
            ]
          },
          "metadata": {
            "needs_background": "light"
          },
          "output_type": "display_data"
        }
      ],
      "source": [
        "plt.plot(result.history['loss'], label='train loss')\n",
        "plt.plot(result.history['val_loss'], label='val loss')\n",
        "plt.legend()\n",
        "plt.show()\n",
        "\n",
        "# plot the accuracy\n",
        "plt.plot(result.history['accuracy'], label='train acc')\n",
        "plt.plot(result.history['val_accuracy'], label='val acc')\n",
        "plt.legend()\n",
        "plt.show()"
      ]
    },
    {
      "cell_type": "code",
      "execution_count": null,
      "metadata": {
        "id": "lL_7vLyfqq29"
      },
      "outputs": [],
      "source": [
        "model.save('final_model.h5')"
      ]
    },
    {
      "cell_type": "code",
      "execution_count": null,
      "metadata": {
        "id": "PTSvgM9Fqq29",
        "outputId": "8aeccfb2-d61a-4596-fb17-57801469c583"
      },
      "outputs": [
        {
          "name": "stdout",
          "output_type": "stream",
          "text": [
            "The accuracy of the model:98.46 %\n",
            "The accuracy of the testing:86.94 %\n"
          ]
        }
      ],
      "source": [
        "print(\"The accuracy of the model:{:.2f} %\".format(result.history['accuracy'][-1]*100))\n",
        "print(\"The accuracy of the testing:{:.2f} %\".format(result.history['val_accuracy'][-1]*100))"
      ]
    }
  ],
  "metadata": {
    "kernelspec": {
      "display_name": "Python 3",
      "language": "python",
      "name": "python3"
    },
    "language_info": {
      "codemirror_mode": {
        "name": "ipython",
        "version": 3
      },
      "file_extension": ".py",
      "mimetype": "text/x-python",
      "name": "python",
      "nbconvert_exporter": "python",
      "pygments_lexer": "ipython3",
      "version": "3.8.5"
    },
    "colab": {
      "provenance": []
    }
  },
  "nbformat": 4,
  "nbformat_minor": 0
}