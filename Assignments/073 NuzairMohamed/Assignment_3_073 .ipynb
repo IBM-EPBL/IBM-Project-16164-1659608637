{
 "cells": [
  {
   "cell_type": "markdown",
   "metadata": {
    "id": "GQHlflnGAEiw"
   },
   "source": [
    "**Image Augmentation**"
   ]
  },
  {
   "cell_type": "code",
   "execution_count": 1,
   "metadata": {
    "id": "jmWRoXwPAOao"
   },
   "outputs": [],
   "source": [
    "import tensorflow\n",
    "from tensorflow.keras.preprocessing.image import ImageDataGenerator"
   ]
  },
  {
   "cell_type": "code",
   "execution_count": 2,
   "metadata": {
    "id": "jYRzN0REAWFH"
   },
   "outputs": [],
   "source": [
    "train_datagen = ImageDataGenerator(rescale=1./255,zoom_range=0.2,horizontal_flip=True,vertical_flip=True)"
   ]
  },
  {
   "cell_type": "code",
   "execution_count": 3,
   "metadata": {
    "id": "vhIZtgfvAh-D"
   },
   "outputs": [],
   "source": [
    "test_datagen = ImageDataGenerator(rescale=1./255)"
   ]
  },
  {
   "cell_type": "code",
   "execution_count": 4,
   "metadata": {
    "colab": {
     "base_uri": "https://localhost:8080/"
    },
    "id": "B9FpTKpLApmm",
    "outputId": "64216bdd-2569-445d-9aee-ed22a95c7154",
    "scrolled": true
   },
   "outputs": [
    {
     "name": "stdout",
     "output_type": "stream",
     "text": [
      "Found 4317 images belonging to 5 classes.\n"
     ]
    }
   ],
   "source": [
    "xtrain = train_datagen.flow_from_directory('D:\\Downloads\\Flowers-Dataset/flowers',target_size=(64,64),class_mode='categorical',batch_size=100)"
   ]
  },
  {
   "cell_type": "code",
   "execution_count": 5,
   "metadata": {
    "colab": {
     "base_uri": "https://localhost:8080/"
    },
    "id": "ai9ax0koDqDT",
    "outputId": "7909a9fd-404d-46eb-9dab-3b8d860da581"
   },
   "outputs": [
    {
     "name": "stdout",
     "output_type": "stream",
     "text": [
      "Found 4317 images belonging to 5 classes.\n"
     ]
    }
   ],
   "source": [
    "xtest = test_datagen.flow_from_directory('D:\\Downloads\\Flowers-Dataset/flowers',target_size=(64,64),class_mode='categorical',batch_size=100)"
   ]
  },
  {
   "cell_type": "markdown",
   "metadata": {
    "id": "1stOOHB8HI71"
   },
   "source": [
    "**Create model**"
   ]
  },
  {
   "cell_type": "code",
   "execution_count": 6,
   "metadata": {
    "id": "ZIvEbpaHGCkt"
   },
   "outputs": [],
   "source": [
    "from tensorflow.keras.models import Sequential\n",
    "from tensorflow.keras.layers import Convolution2D,MaxPooling2D,Flatten,Dense"
   ]
  },
  {
   "cell_type": "code",
   "execution_count": 7,
   "metadata": {
    "id": "JDTiHxrUGp4N"
   },
   "outputs": [],
   "source": [
    "model = Sequential()"
   ]
  },
  {
   "cell_type": "markdown",
   "metadata": {
    "id": "7zBNDvBfG1Ne"
   },
   "source": [
    "**Convolution layer**"
   ]
  },
  {
   "cell_type": "code",
   "execution_count": 8,
   "metadata": {
    "id": "2qwcAoeJG_Qj"
   },
   "outputs": [],
   "source": [
    "model.add(Convolution2D(32,(3,3),activation='relu',input_shape=(64,64,3)))"
   ]
  },
  {
   "cell_type": "markdown",
   "metadata": {
    "id": "wuJgbgG6HWPL"
   },
   "source": [
    "**Maxpooling **"
   ]
  },
  {
   "cell_type": "code",
   "execution_count": 9,
   "metadata": {
    "id": "UxaogiQkHO5P"
   },
   "outputs": [],
   "source": [
    "model.add(MaxPooling2D(pool_size=(2,2)))"
   ]
  },
  {
   "cell_type": "markdown",
   "metadata": {
    "id": "sGeUcIUcHg7P"
   },
   "source": [
    "**Flatten**"
   ]
  },
  {
   "cell_type": "code",
   "execution_count": 10,
   "metadata": {
    "id": "lP5mkEn3Hqi8"
   },
   "outputs": [],
   "source": [
    "model.add(Flatten())"
   ]
  },
  {
   "cell_type": "markdown",
   "metadata": {
    "id": "KdBAMGD9HyIs"
   },
   "source": [
    "**Dense layer**"
   ]
  },
  {
   "cell_type": "code",
   "execution_count": 11,
   "metadata": {
    "id": "fKsW1hg8H20V"
   },
   "outputs": [],
   "source": [
    "model.add(Dense(300,activation='relu')) #hiddenlayer 1\n",
    "model.add(Dense(300,activation='relu')) #hiddenlayer 2\n",
    "model.add(Dense(150,activation='relu')) #hiddenlayer 3"
   ]
  },
  {
   "cell_type": "markdown",
   "metadata": {
    "id": "DKLW7D5zICHW"
   },
   "source": [
    "**Output layer**"
   ]
  },
  {
   "cell_type": "code",
   "execution_count": 12,
   "metadata": {
    "id": "RIzTRkqFIFNG"
   },
   "outputs": [],
   "source": [
    "model.add(Dense(5,activation='softmax'))"
   ]
  },
  {
   "cell_type": "markdown",
   "metadata": {
    "id": "Qsap5g3wIKdG"
   },
   "source": [
    "**Compile the model**"
   ]
  },
  {
   "cell_type": "code",
   "execution_count": 13,
   "metadata": {
    "id": "038ny_8SIOIR"
   },
   "outputs": [],
   "source": [
    "model.compile(optimizer='adam',loss='categorical_crossentropy',metrics=['accuracy'])"
   ]
  },
  {
   "cell_type": "code",
   "execution_count": 14,
   "metadata": {
    "colab": {
     "base_uri": "https://localhost:8080/"
    },
    "id": "0Q5oDfGNI2Wn",
    "outputId": "497bcb0c-3412-4cfd-e575-310a1e608ebc"
   },
   "outputs": [
    {
     "name": "stderr",
     "output_type": "stream",
     "text": [
      "C:\\Users\\Arshath\\AppData\\Local\\Temp\\ipykernel_1384\\2033910576.py:1: UserWarning: `Model.fit_generator` is deprecated and will be removed in a future version. Please use `Model.fit`, which supports generators.\n",
      "  model.fit_generator(xtrain,\n"
     ]
    },
    {
     "name": "stdout",
     "output_type": "stream",
     "text": [
      "Epoch 1/10\n",
      "44/44 [==============================] - 32s 703ms/step - loss: 1.5327 - accuracy: 0.3811 - val_loss: 1.1783 - val_accuracy: 0.5136\n",
      "Epoch 2/10\n",
      "44/44 [==============================] - 29s 667ms/step - loss: 1.1522 - accuracy: 0.5288 - val_loss: 1.1435 - val_accuracy: 0.5330\n",
      "Epoch 3/10\n",
      "44/44 [==============================] - 29s 664ms/step - loss: 1.0725 - accuracy: 0.5689 - val_loss: 1.1507 - val_accuracy: 0.5599\n",
      "Epoch 4/10\n",
      "44/44 [==============================] - 27s 627ms/step - loss: 1.0620 - accuracy: 0.5678 - val_loss: 1.1351 - val_accuracy: 0.5654\n",
      "Epoch 5/10\n",
      "44/44 [==============================] - 28s 629ms/step - loss: 0.9695 - accuracy: 0.6115 - val_loss: 1.1223 - val_accuracy: 0.5601\n",
      "Epoch 6/10\n",
      "44/44 [==============================] - 27s 628ms/step - loss: 0.9256 - accuracy: 0.6356 - val_loss: 1.0889 - val_accuracy: 0.5969\n",
      "Epoch 7/10\n",
      "44/44 [==============================] - 28s 636ms/step - loss: 0.9353 - accuracy: 0.6375 - val_loss: 0.9412 - val_accuracy: 0.6361\n",
      "Epoch 8/10\n",
      "44/44 [==============================] - 28s 631ms/step - loss: 0.8708 - accuracy: 0.6576 - val_loss: 1.0790 - val_accuracy: 0.5925\n",
      "Epoch 9/10\n",
      "44/44 [==============================] - 27s 626ms/step - loss: 0.8592 - accuracy: 0.6713 - val_loss: 0.9098 - val_accuracy: 0.6474\n",
      "Epoch 10/10\n",
      "44/44 [==============================] - 27s 627ms/step - loss: 0.7972 - accuracy: 0.6968 - val_loss: 0.7758 - val_accuracy: 0.6954\n"
     ]
    },
    {
     "data": {
      "text/plain": [
       "<keras.callbacks.History at 0x1eae5da1a90>"
      ]
     },
     "execution_count": 14,
     "metadata": {},
     "output_type": "execute_result"
    }
   ],
   "source": [
    "model.fit_generator(xtrain,\n",
    "                    steps_per_epoch=len(xtrain),\n",
    "                    epochs=10,                \n",
    "                    validation_data=xtest,\n",
    "                    validation_steps=len(xtest))"
   ]
  },
  {
   "cell_type": "markdown",
   "metadata": {
    "id": "Af0IkuMpMmoY"
   },
   "source": [
    "**Saving**"
   ]
  },
  {
   "cell_type": "code",
   "execution_count": 15,
   "metadata": {
    "id": "i9SyyPY2MpYs"
   },
   "outputs": [],
   "source": [
    "model.save('Flowers.h5')"
   ]
  },
  {
   "cell_type": "markdown",
   "metadata": {
    "id": "B8Iju1qKMy-x"
   },
   "source": [
    "**Testing the model**"
   ]
  },
  {
   "cell_type": "code",
   "execution_count": 16,
   "metadata": {
    "id": "5cvF8xglMsF9"
   },
   "outputs": [],
   "source": [
    "import numpy as np\n",
    "from tensorflow.keras.preprocessing import image"
   ]
  },
  {
   "cell_type": "code",
   "execution_count": 17,
   "metadata": {
    "id": "511x-Be3NCqa"
   },
   "outputs": [],
   "source": [
    "img = image.load_img('D:\\Downloads\\Flowers-Dataset/flower2.jpg',target_size=(64,64))"
   ]
  },
  {
   "cell_type": "code",
   "execution_count": 18,
   "metadata": {
    "colab": {
     "base_uri": "https://localhost:8080/",
     "height": 81
    },
    "id": "-z1DyQWTNqCC",
    "outputId": "db66247d-04c2-4e6b-ba42-8a7503596400"
   },
   "outputs": [
    {
     "data": {
      "image/png": "[encoded data removed]",
      "text/plain": [
       "<PIL.Image.Image image mode=RGB size=64x64 at 0x1EAE5D015E0>"
      ]
     },
     "execution_count": 18,
     "metadata": {},
     "output_type": "execute_result"
    }
   ],
   "source": [
    "img"
   ]
  },
  {
   "cell_type": "code",
   "execution_count": 19,
   "metadata": {
    "colab": {
     "base_uri": "https://localhost:8080/"
    },
    "id": "H-5jHNsENw2L",
    "outputId": "49a39d51-a6f9-48af-8353-c047199c6556",
    "scrolled": true
   },
   "outputs": [
    {
     "data": {
      "text/plain": [
       "array([[[215., 233., 247.],\n",
       "        [219., 229., 231.],\n",
       "        [216., 223., 156.],\n",
       "        ...,\n",
       "        [204., 211., 230.],\n",
       "        [203., 211., 230.],\n",
       "        [201., 212., 230.]],\n",
       "\n",
       "       [[225., 185.,   0.],\n",
       "        [212., 199.,  25.],\n",
       "        [231., 200.,  60.],\n",
       "        ...,\n",
       "        [191., 204., 221.],\n",
       "        [194., 205., 223.],\n",
       "        [196., 207., 225.]],\n",
       "\n",
       "       [[213., 195.,   9.],\n",
       "        [220., 190.,   6.],\n",
       "        [206., 162.,   3.],\n",
       "        ...,\n",
       "        [184., 197., 214.],\n",
       "        [186., 199., 216.],\n",
       "        [186., 199., 216.]],\n",
       "\n",
       "       ...,\n",
       "\n",
       "       [[ 78.,  99.,  56.],\n",
       "        [ 79.,  99.,  50.],\n",
       "        [ 86., 106.,  47.],\n",
       "        ...,\n",
       "        [ 93., 103.,  51.],\n",
       "        [ 74.,  75.,  44.],\n",
       "        [ 36.,  51.,  10.]],\n",
       "\n",
       "       [[ 80.,  99.,  54.],\n",
       "        [ 80., 100.,  51.],\n",
       "        [ 87., 108.,  51.],\n",
       "        ...,\n",
       "        [ 39.,  36.,  17.],\n",
       "        [ 51.,  45.,  23.],\n",
       "        [ 38.,  31.,  13.]],\n",
       "\n",
       "       [[ 79.,  99.,  46.],\n",
       "        [ 78.,  98.,  49.],\n",
       "        [ 86., 107.,  51.],\n",
       "        ...,\n",
       "        [ 35.,  28.,  12.],\n",
       "        [ 59.,  52.,  34.],\n",
       "        [ 52.,  51.,  20.]]], dtype=float32)"
      ]
     },
     "execution_count": 19,
     "metadata": {},
     "output_type": "execute_result"
    }
   ],
   "source": [
    "x = image.img_to_array(img)\n",
    "x"
   ]
  },
  {
   "cell_type": "code",
   "execution_count": 20,
   "metadata": {
    "colab": {
     "base_uri": "https://localhost:8080/"
    },
    "id": "bA4wgqyANyrI",
    "outputId": "a36e1c12-160e-4e48-d4f6-f1d031080e33",
    "scrolled": true
   },
   "outputs": [
    {
     "data": {
      "text/plain": [
       "array([[[[215., 233., 247.],\n",
       "         [219., 229., 231.],\n",
       "         [216., 223., 156.],\n",
       "         ...,\n",
       "         [204., 211., 230.],\n",
       "         [203., 211., 230.],\n",
       "         [201., 212., 230.]],\n",
       "\n",
       "        [[225., 185.,   0.],\n",
       "         [212., 199.,  25.],\n",
       "         [231., 200.,  60.],\n",
       "         ...,\n",
       "         [191., 204., 221.],\n",
       "         [194., 205., 223.],\n",
       "         [196., 207., 225.]],\n",
       "\n",
       "        [[213., 195.,   9.],\n",
       "         [220., 190.,   6.],\n",
       "         [206., 162.,   3.],\n",
       "         ...,\n",
       "         [184., 197., 214.],\n",
       "         [186., 199., 216.],\n",
       "         [186., 199., 216.]],\n",
       "\n",
       "        ...,\n",
       "\n",
       "        [[ 78.,  99.,  56.],\n",
       "         [ 79.,  99.,  50.],\n",
       "         [ 86., 106.,  47.],\n",
       "         ...,\n",
       "         [ 93., 103.,  51.],\n",
       "         [ 74.,  75.,  44.],\n",
       "         [ 36.,  51.,  10.]],\n",
       "\n",
       "        [[ 80.,  99.,  54.],\n",
       "         [ 80., 100.,  51.],\n",
       "         [ 87., 108.,  51.],\n",
       "         ...,\n",
       "         [ 39.,  36.,  17.],\n",
       "         [ 51.,  45.,  23.],\n",
       "         [ 38.,  31.,  13.]],\n",
       "\n",
       "        [[ 79.,  99.,  46.],\n",
       "         [ 78.,  98.,  49.],\n",
       "         [ 86., 107.,  51.],\n",
       "         ...,\n",
       "         [ 35.,  28.,  12.],\n",
       "         [ 59.,  52.,  34.],\n",
       "         [ 52.,  51.,  20.]]]], dtype=float32)"
      ]
     },
     "execution_count": 20,
     "metadata": {},
     "output_type": "execute_result"
    }
   ],
   "source": [
    "x = np.expand_dims(x,axis=0)\n",
    "x"
   ]
  },
  {
   "cell_type": "code",
   "execution_count": 21,
   "metadata": {
    "colab": {
     "base_uri": "https://localhost:8080/"
    },
    "id": "IfjAfhIoN-UZ",
    "outputId": "f529ba5a-fc8d-48f3-bc54-eb76aecab6dc"
   },
   "outputs": [
    {
     "name": "stdout",
     "output_type": "stream",
     "text": [
      "1/1 [==============================] - 0s 110ms/step\n"
     ]
    },
    {
     "data": {
      "text/plain": [
       "array([[0., 0., 0., 1., 0.]], dtype=float32)"
      ]
     },
     "execution_count": 21,
     "metadata": {},
     "output_type": "execute_result"
    }
   ],
   "source": [
    "model.predict(x)"
   ]
  },
  {
   "cell_type": "code",
   "execution_count": 22,
   "metadata": {
    "colab": {
     "base_uri": "https://localhost:8080/"
    },
    "id": "6mL4T8CwOFor",
    "outputId": "10b87dde-d1bc-4b13-dbdc-ffbe58d21a24"
   },
   "outputs": [
    {
     "data": {
      "text/plain": [
       "{'daisy': 0, 'dandelion': 1, 'rose': 2, 'sunflower': 3, 'tulip': 4}"
      ]
     },
     "execution_count": 22,
     "metadata": {},
     "output_type": "execute_result"
    }
   ],
   "source": [
    "xtrain.class_indices"
   ]
  },
  {
   "cell_type": "code",
   "execution_count": 23,
   "metadata": {
    "colab": {
     "base_uri": "https://localhost:8080/",
     "height": 35
    },
    "id": "tMzc19khOLGo",
    "outputId": "2903163d-08f4-4061-fd8b-4070dcde33f7"
   },
   "outputs": [
    {
     "name": "stdout",
     "output_type": "stream",
     "text": [
      "1/1 [==============================] - 0s 25ms/step\n"
     ]
    },
    {
     "data": {
      "text/plain": [
       "'sunflower'"
      ]
     },
     "execution_count": 23,
     "metadata": {},
     "output_type": "execute_result"
    }
   ],
   "source": [
    "op = ['daisy','dandelion','rose','sunflower','tulip']\n",
    "pred = np.argmax(model.predict(x))\n",
    "op[pred]"
   ]
  }
 ],
 "metadata": {
  "colab": {
   "collapsed_sections": [],
   "provenance": []
  },
  "kernelspec": {
   "display_name": "Python 3 (ipykernel)",
   "language": "python",
   "name": "python3"
  },
  "language_info": {
   "codemirror_mode": {
    "name": "ipython",
    "version": 3
   },
   "file_extension": ".py",
   "mimetype": "text/x-python",
   "name": "python",
   "nbconvert_exporter": "python",
   "pygments_lexer": "ipython3",
   "version": "3.9.12"
  }
 },
 "nbformat": 4,
 "nbformat_minor": 1
}
